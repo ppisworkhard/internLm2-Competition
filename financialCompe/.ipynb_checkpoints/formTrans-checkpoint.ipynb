{
 "cells": [
  {
   "cell_type": "code",
   "execution_count": 17,
   "id": "f2be4963-78a0-4f8a-bcef-df7f1313e5a4",
   "metadata": {},
   "outputs": [],
   "source": [
    "import openpyxl\n",
    "import json"
   ]
  },
  {
   "cell_type": "code",
   "execution_count": 17,
   "id": "e5515930-5651-41c0-9194-562ced3844c2",
   "metadata": {},
   "outputs": [],
   "source": [
    "import re"
   ]
  },
  {
   "cell_type": "code",
   "execution_count": 30,
   "id": "591e8ad1-0a96-4098-beaa-19c8d67d9034",
   "metadata": {},
   "outputs": [
    {
     "name": "stdout",
     "output_type": "stream",
     "text": [
      "Conversion complete. Output written to AnnEvaSet-structure-2.jsonl\n"
     ]
    }
   ],
   "source": [
    "#change the number of repetitions of text output\n",
    "output_freq = 2\n",
    "def process_excel_to_json(input_file, output_file):\n",
    "    # Load the workbook\n",
    "    wb = openpyxl.load_workbook(input_file)\n",
    "\n",
    "    # Select the \"2024-02-28-公告测评集\" sheet\n",
    "    sheet = wb[\"2024-02-28-公告测评集\"]\n",
    "\n",
    "    # Initialize the output data structure\n",
    "    output_data = []\n",
    "\n",
    "    # Iterate through each row in column A and D\n",
    "    for row in sheet.iter_rows(min_row=2, max_col=3, values_only=True):\n",
    "        system_value = \"你是一名有着丰富经验的 \" + row[0] + \" 专家。你经常根据人们提出的金融相关的问题提供准确的、有远见的、合理的答案。\"\n",
    "\n",
    "        # Create the conversation dictionary\n",
    "        inputCon = row[1]\n",
    "        index = inputCon.find('，')\n",
    "        result = inputCon[index+1 :]\n",
    "        \n",
    "        output_str = row[2]\n",
    "        if isinstance(output_str, str) != True:\n",
    "            output_str = str(output_str)\n",
    "        \n",
    "        conversation = {\n",
    "            \"system\": system_value,\n",
    "            \"input\": result,\n",
    "            \"output\": output_str\n",
    "        }\n",
    "\n",
    "        # Append the conversation to the output data\n",
    "        for i in range(output_freq):\n",
    "            output_data.append({\"conversation\": [conversation]})\n",
    "\n",
    "    # Write the output data to a JSON file\n",
    "    with open(output_file, 'w') as json_file:\n",
    "        json.dump(output_data, json_file, indent=4, ensure_ascii=False)\n",
    "\n",
    "    print(f\"Conversion complete. Output written to {output_file}\")\n",
    "\n",
    "# Replace 'AnnEvaSet.xlsx' and 'AnnEvaSet-structure-1.jsonl' with your actual input and output file names\n",
    "output_link = 'AnnEvaSet-structure-' + str(output_freq) + '.jsonl'\n",
    "process_excel_to_json('AnnEvaSet.xlsx', output_link)"
   ]
  },
  {
   "cell_type": "code",
   "execution_count": 14,
   "id": "f7ba4c28-89c8-45c4-85d7-dab089e5542c",
   "metadata": {},
   "outputs": [
    {
     "data": {
      "text/plain": [
       "'6.8'"
      ]
     },
     "execution_count": 14,
     "metadata": {},
     "output_type": "execute_result"
    }
   ],
   "source": []
  }
 ],
 "metadata": {
  "kernelspec": {
   "display_name": "Python 3 (ipykernel)",
   "language": "python",
   "name": "python3"
  },
  "language_info": {
   "codemirror_mode": {
    "name": "ipython",
    "version": 3
   },
   "file_extension": ".py",
   "mimetype": "text/x-python",
   "name": "python",
   "nbconvert_exporter": "python",
   "pygments_lexer": "ipython3",
   "version": "3.10.12"
  }
 },
 "nbformat": 4,
 "nbformat_minor": 5
}
